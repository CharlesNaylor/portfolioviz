{
 "cells": [
  {
   "cell_type": "code",
   "execution_count": null,
   "id": "4d490e3e",
   "metadata": {},
   "outputs": [],
   "source": [
    "import pandas as pd\n",
    "import hvplot.pandas"
   ]
  },
  {
   "cell_type": "code",
   "execution_count": null,
   "id": "a95ffea7",
   "metadata": {},
   "outputs": [],
   "source": [
    "raw = pd.read_csv(\"../data/equity_prices.csv\", parse_dates=[0])"
   ]
  },
  {
   "cell_type": "code",
   "execution_count": null,
   "id": "bc3f8390",
   "metadata": {},
   "outputs": [],
   "source": [
    "raw = raw.set_index(['Field','Ticker','Date'])"
   ]
  },
  {
   "cell_type": "code",
   "execution_count": null,
   "id": "d399a7ab",
   "metadata": {},
   "outputs": [],
   "source": [
    "raw.head()"
   ]
  },
  {
   "cell_type": "code",
   "execution_count": null,
   "id": "629d0d2c",
   "metadata": {},
   "outputs": [],
   "source": [
    "raw.loc['Close','IBM'].hvplot()"
   ]
  },
  {
   "cell_type": "code",
   "execution_count": null,
   "id": "bfaf296d",
   "metadata": {},
   "outputs": [],
   "source": [
    "raw.loc['Close'].reset_index().head()"
   ]
  },
  {
   "cell_type": "code",
   "execution_count": null,
   "id": "a4221191",
   "metadata": {},
   "outputs": [],
   "source": [
    "raw.loc['Close','PEP.O'].hvplot()"
   ]
  },
  {
   "cell_type": "code",
   "execution_count": null,
   "id": "6f4bf36b",
   "metadata": {},
   "outputs": [],
   "source": [
    "pd.pivot(\n",
    "    raw.loc['Close'].assign(value=lambda x: pd.np.log(1+x)).reset_index(),\n",
    "    columns='Ticker', index='Date',values='value'\n",
    ").hvplot()"
   ]
  },
  {
   "cell_type": "code",
   "execution_count": null,
   "id": "46cf25f7",
   "metadata": {},
   "outputs": [],
   "source": [
    "ts_graph = raw.reset_index().hvplot(\n",
    "    x='Date',y='value', groupby=['Ticker','Field']\n",
    ")\n",
    "ts_graph"
   ]
  },
  {
   "cell_type": "code",
   "execution_count": null,
   "id": "96de7901",
   "metadata": {},
   "outputs": [],
   "source": [
    "import holoviews as hv"
   ]
  },
  {
   "cell_type": "code",
   "execution_count": null,
   "id": "02454142",
   "metadata": {},
   "outputs": [],
   "source": [
    "import datetime"
   ]
  },
  {
   "cell_type": "code",
   "execution_count": null,
   "id": "a927fa8e",
   "metadata": {},
   "outputs": [],
   "source": [
    "ts_graph * hv.VLine(x=datetime.date(2021,1,1)).opts(color='black')"
   ]
  },
  {
   "cell_type": "code",
   "execution_count": null,
   "id": "1cc601d1",
   "metadata": {},
   "outputs": [],
   "source": [
    "ts_graph * hv.HLine(y=100).opts(color='black')"
   ]
  },
  {
   "cell_type": "code",
   "execution_count": null,
   "id": "c1a40720",
   "metadata": {},
   "outputs": [],
   "source": [
    "ts_graph.hist()"
   ]
  },
  {
   "cell_type": "code",
   "execution_count": null,
   "id": "5d1e6711",
   "metadata": {},
   "outputs": [],
   "source": [
    "ts_graph.dimension_values('Ticker')"
   ]
  },
  {
   "cell_type": "code",
   "execution_count": null,
   "id": "e5b9cee1",
   "metadata": {},
   "outputs": [],
   "source": [
    "ts_graph[('IBM','Open')].relabel(\"IBM\") + ts_graph[(\"LMT\", \"Open\")].relabel(\"LMT\")"
   ]
  },
  {
   "cell_type": "code",
   "execution_count": null,
   "id": "5e18ca13",
   "metadata": {},
   "outputs": [],
   "source": [
    "raw.loc[((\"Open\",\"High\",'Low',\"Close\"),slice(None)),:].reset_index().hvplot(\n",
    "    x='Date',y='value', groupby=['Ticker'], by='Field'\n",
    ")"
   ]
  },
  {
   "cell_type": "code",
   "execution_count": null,
   "id": "c483aaa5",
   "metadata": {},
   "outputs": [],
   "source": [
    "raw.loc[((\"Open\",\"High\",'Low',\"Close\"),slice(None)),:].reset_index().hvplot(\n",
    "    x='Date',y='value', groupby=['Ticker'], col='Field'\n",
    ")"
   ]
  },
  {
   "cell_type": "code",
   "execution_count": null,
   "id": "62223f08",
   "metadata": {},
   "outputs": [],
   "source": [
    "jim = raw.unstack(level=0).reset_index(col_level=1).droplevel(0,axis=1)"
   ]
  },
  {
   "cell_type": "code",
   "execution_count": null,
   "id": "ac3f0e59",
   "metadata": {},
   "outputs": [],
   "source": [
    "jim.columns = jim.columns.droplevel()"
   ]
  },
  {
   "cell_type": "code",
   "execution_count": null,
   "id": "7fc2fe0f",
   "metadata": {},
   "outputs": [],
   "source": [
    "jim.head()"
   ]
  },
  {
   "cell_type": "code",
   "execution_count": null,
   "id": "4190566d",
   "metadata": {},
   "outputs": [],
   "source": [
    "slow_rendering_scatter = hvplot.scatter_matrix(\n",
    "    (raw.unstack(level=0)\n",
    "        .reset_index(col_level=1)\n",
    "        .droplevel(0,axis=1)\n",
    "        .drop(columns=['Date'])\n",
    "    ),\n",
    "    c='Ticker')"
   ]
  },
  {
   "cell_type": "code",
   "execution_count": null,
   "id": "bcb4825e",
   "metadata": {},
   "outputs": [],
   "source": [
    "slow_rendering_scatter"
   ]
  },
  {
   "cell_type": "code",
   "execution_count": null,
   "id": "55f3d63a",
   "metadata": {},
   "outputs": [],
   "source": [
    "import datashader as ds"
   ]
  },
  {
   "cell_type": "code",
   "execution_count": null,
   "id": "aef57187",
   "metadata": {},
   "outputs": [],
   "source": [
    "from holoviews.operation.datashader import datashade"
   ]
  },
  {
   "cell_type": "code",
   "execution_count": null,
   "id": "99008b5c",
   "metadata": {},
   "outputs": [],
   "source": [
    "datashade(ts_graph)"
   ]
  },
  {
   "cell_type": "markdown",
   "id": "7fa478da",
   "metadata": {},
   "source": [
    "Datashader has started breaking this notebook"
   ]
  },
  {
   "cell_type": "code",
   "execution_count": null,
   "id": "b0d73b8f",
   "metadata": {},
   "outputs": [],
   "source": []
  }
 ],
 "metadata": {
  "kernelspec": {
   "display_name": "Python 3 (ipykernel)",
   "language": "python",
   "name": "python3"
  },
  "language_info": {
   "codemirror_mode": {
    "name": "ipython",
    "version": 3
   },
   "file_extension": ".py",
   "mimetype": "text/x-python",
   "name": "python",
   "nbconvert_exporter": "python",
   "pygments_lexer": "ipython3",
   "version": "3.9.7"
  }
 },
 "nbformat": 4,
 "nbformat_minor": 5
}
